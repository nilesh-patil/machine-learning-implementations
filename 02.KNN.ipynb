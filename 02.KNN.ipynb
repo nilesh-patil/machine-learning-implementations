{
 "cells": [
  {
   "cell_type": "markdown",
   "metadata": {},
   "source": [
    "#### Import packages"
   ]
  },
  {
   "cell_type": "code",
   "execution_count": 1,
   "metadata": {
    "collapsed": true
   },
   "outputs": [
    {
     "name": "stdout",
     "output_type": "stream",
     "text": [
      "Populating the interactive namespace from numpy and matplotlib\n"
     ]
    }
   ],
   "source": [
    "%pylab inline\n",
    "\n",
    "import seaborn as sns\n",
    "import pandas as pd"
   ]
  },
  {
   "cell_type": "markdown",
   "metadata": {},
   "source": [
    "#### Create datasets"
   ]
  },
  {
   "cell_type": "code",
   "execution_count": 2,
   "metadata": {
    "collapsed": false
   },
   "outputs": [],
   "source": [
    "randomState=4\n",
    "np.random.seed(randomState)\n",
    "\n",
    "values=100000\n",
    "columns=20\n",
    "rows = values/columns\n",
    "\n",
    "X = np.random.standard_normal(values).reshape(rows,columns)\n",
    "y = np.random.binomial(10,0.5,size=rows)\n",
    "\n",
    "test_X = np.random.standard_normal(values).reshape(rows,columns)"
   ]
  },
  {
   "cell_type": "markdown",
   "metadata": {},
   "source": [
    "#### knn-implementation"
   ]
  },
  {
   "cell_type": "code",
   "execution_count": 12,
   "metadata": {
    "collapsed": false
   },
   "outputs": [],
   "source": [
    "class knn():\n",
    "\n",
    "    def __init__(self):\n",
    "        \n",
    "        self.name = 'KNN'\n",
    "        \n",
    "        pass\n",
    "        \n",
    "    def train(self, X, Y):\n",
    "        \n",
    "        self.X = X\n",
    "        self.Y = Y\n",
    "        \n",
    "    def distance(self, X, new_observation):\n",
    "        \n",
    "        distance_vector = np.linalg.norm(X-new_observation,axis=1)\n",
    "        \n",
    "        return(distance_vector)\n",
    "    \n",
    "    def neighbors_n(self, distance_vector, k):\n",
    "        \n",
    "        nearest_neighbors = distance_vector.argsort()[:k]\n",
    "        \n",
    "        return(nearest_neighbors)\n",
    "    \n",
    "    def predict(self, newObservations, k):\n",
    "        \n",
    "        n_observartions = newObservations.shape[0]\n",
    "        predictions = []\n",
    "        \n",
    "        for observartion_id in range(n_observartions):\n",
    "            \n",
    "            observation = newObservations[observartion_id]\n",
    "            \n",
    "            distance_vector = self.distance(self.X, observation)\n",
    "            \n",
    "            nearest_neighbors = self.neighbors_n(distance_vector, k)\n",
    "            \n",
    "            predictions += [ np.mean(self.Y[nearest_neighbors]) ]\n",
    "        \n",
    "        predictions = np.array(predictions)\n",
    "        \n",
    "        return(predictions)"
   ]
  },
  {
   "cell_type": "markdown",
   "metadata": {},
   "source": [
    "#### Train & Run knn"
   ]
  },
  {
   "cell_type": "code",
   "execution_count": 13,
   "metadata": {
    "collapsed": false
   },
   "outputs": [
    {
     "data": {
      "text/plain": [
       "array([ 4.6,  4.6,  4.8, ...,  6.6,  5.4,  5.8])"
      ]
     },
     "execution_count": 13,
     "metadata": {},
     "output_type": "execute_result"
    }
   ],
   "source": [
    "model=knn()\n",
    "model.train(X=X,Y=y)\n",
    "\n",
    "predictions = model.predict(test_X,k=5)\n",
    "\n",
    "predictions"
   ]
  },
  {
   "cell_type": "code",
   "execution_count": 14,
   "metadata": {},
   "outputs": [
    {
     "data": {
      "image/png": "[encoded data removed]",
      "text/plain": [
       "<matplotlib.figure.Figure at 0x7fd391108ed0>"
      ]
     },
     "metadata": {},
     "output_type": "display_data"
    }
   ],
   "source": [
    "plt.hist(predictions, bins=10, alpha=0.5);"
   ]
  }
 ],
 "metadata": {
  "kernelspec": {
   "display_name": "Anaconda-tf",
   "language": "python",
   "name": "anaconda_tf"
  },
  "language_info": {
   "codemirror_mode": {
    "name": "ipython",
    "version": 2
   },
   "file_extension": ".py",
   "mimetype": "text/x-python",
   "name": "python",
   "nbconvert_exporter": "python",
   "pygments_lexer": "ipython2",
   "version": "2.7.14"
  },
  "widgets": {
   "state": {},
   "version": "1.1.2"
  }
 },
 "nbformat": 4,
 "nbformat_minor": 2
}
